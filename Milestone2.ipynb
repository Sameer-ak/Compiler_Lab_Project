{
  "nbformat": 4,
  "nbformat_minor": 0,
  "metadata": {
    "colab": {
      "provenance": []
    },
    "kernelspec": {
      "name": "python3",
      "display_name": "Python 3"
    },
    "language_info": {
      "name": "python"
    }
  },
  "cells": [
    {
      "cell_type": "code",
      "execution_count": 1,
      "metadata": {
        "colab": {
          "base_uri": "https://localhost:8080/"
        },
        "id": "Ckn4Ll2Mulub",
        "outputId": "52a790b6-a791-400a-9487-f60b5012529f"
      },
      "outputs": [
        {
          "output_type": "stream",
          "name": "stdout",
          "text": [
            "Enter an arithmetic expression: 2+3\n",
            "Tokens: ['2', '+', '3']\n"
          ]
        }
      ],
      "source": [
        "# Milestone 2: Lexical Analysis (Tokenization)\n",
        "\n",
        "import re\n",
        "\n",
        "class LexicalAnalyzer:\n",
        "    def __init__(self):\n",
        "        self.tokens = []\n",
        "\n",
        "    def tokenize_input(self, input_string):\n",
        "        \"\"\"\n",
        "        Tokenizes the input string based on grammar rules using regular expressions.\n",
        "        \"\"\"\n",
        "        self.tokens = re.findall(r'\\d+|[-+*/()]', input_string)\n",
        "\n",
        "    def accept_input(self):\n",
        "        \"\"\"\n",
        "        Accepts input from the user.\n",
        "        \"\"\"\n",
        "        user_input = input(\"Enter an arithmetic expression: \")\n",
        "        self.tokenize_input(user_input)\n",
        "\n",
        "    def display_tokens(self):\n",
        "        \"\"\"\n",
        "        Displays the tokens stored after tokenization.\n",
        "        \"\"\"\n",
        "        print(\"Tokens:\", self.tokens)\n",
        "\n",
        "\n",
        "# Example usage:\n",
        "lexer = LexicalAnalyzer()\n",
        "lexer.accept_input()\n",
        "lexer.display_tokens()\n"
      ]
    },
    {
      "cell_type": "code",
      "source": [],
      "metadata": {
        "id": "37ihbf9Ju3gq"
      },
      "execution_count": null,
      "outputs": []
    }
  ]
}