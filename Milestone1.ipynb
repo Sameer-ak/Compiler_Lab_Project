{
  "nbformat": 4,
  "nbformat_minor": 0,
  "metadata": {
    "colab": {
      "provenance": []
    },
    "kernelspec": {
      "name": "python3",
      "display_name": "Python 3"
    },
    "language_info": {
      "name": "python"
    }
  },
  "cells": [
    {
      "cell_type": "code",
      "execution_count": 1,
      "metadata": {
        "colab": {
          "base_uri": "https://localhost:8080/"
        },
        "id": "Y0hhb_X0vDRG",
        "outputId": "163abd4e-746e-4686-9f09-8b09f2a68428"
      },
      "outputs": [
        {
          "output_type": "stream",
          "name": "stdout",
          "text": [
            "Enter an arithmetic expression: 4*5\n",
            "Tokens: ['4', '*', '5']\n"
          ]
        }
      ],
      "source": [
        "# Milestone 1: Understanding the Grammar and Implementing Input Handling\n",
        "\n",
        "class Parser:\n",
        "    def __init__(self):\n",
        "        self.tokens = []\n",
        "\n",
        "    def tokenize_input(self, input_string):\n",
        "        \"\"\"\n",
        "        Tokenizes the input string based on grammar rules.\n",
        "        \"\"\"\n",
        "        self.tokens = []\n",
        "        current_token = ''\n",
        "        for char in input_string:\n",
        "            if char.isdigit():\n",
        "                current_token += char\n",
        "            elif char in {'+', '-', '*', '/'}:\n",
        "                if current_token:\n",
        "                    self.tokens.append(current_token)\n",
        "                self.tokens.append(char)\n",
        "                current_token = ''\n",
        "            elif char in {'(', ')'}:\n",
        "                if current_token:\n",
        "                    self.tokens.append(current_token)\n",
        "                    current_token = ''\n",
        "                self.tokens.append(char)\n",
        "            elif char != ' ':\n",
        "                raise ValueError(\"Invalid character in input\")\n",
        "        if current_token:\n",
        "            self.tokens.append(current_token)\n",
        "\n",
        "    def accept_input(self):\n",
        "        \"\"\"\n",
        "        Accepts input from the user.\n",
        "        \"\"\"\n",
        "        user_input = input(\"Enter an arithmetic expression: \")\n",
        "        self.tokenize_input(user_input)\n",
        "\n",
        "    def display_tokens(self):\n",
        "        \"\"\"\n",
        "        Displays the tokens stored after tokenization.\n",
        "        \"\"\"\n",
        "        print(\"Tokens:\", self.tokens)\n",
        "\n",
        "\n",
        "# Example usage:\n",
        "parser = Parser()\n",
        "parser.accept_input()\n",
        "parser.display_tokens()\n"
      ]
    }
  ]
}