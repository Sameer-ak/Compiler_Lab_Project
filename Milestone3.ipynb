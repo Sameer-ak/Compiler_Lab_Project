{
  "nbformat": 4,
  "nbformat_minor": 0,
  "metadata": {
    "colab": {
      "provenance": []
    },
    "kernelspec": {
      "name": "python3",
      "display_name": "Python 3"
    },
    "language_info": {
      "name": "python"
    }
  },
  "cells": [
    {
      "cell_type": "code",
      "source": [
        "# Milestone 2: Lexical Analysis (Tokenization)\n",
        "\n",
        "import re\n",
        "\n",
        "class LexicalAnalyzer:\n",
        "    def __init__(self):\n",
        "        self.tokens = []\n",
        "\n",
        "    def tokenize_input(self, input_string):\n",
        "        \"\"\"\n",
        "        Tokenizes the input string based on grammar rules using regular expressions.\n",
        "        \"\"\"\n",
        "        self.tokens = re.findall(r'\\d+|[-+*/()]', input_string)\n",
        "\n",
        "    def accept_input(self):\n",
        "        \"\"\"\n",
        "        Accepts input from the user.\n",
        "        \"\"\"\n",
        "        user_input = input(\"Enter an arithmetic expression: \")\n",
        "        self.tokenize_input(user_input)\n",
        "\n",
        "    def display_tokens(self):\n",
        "        \"\"\"\n",
        "        Displays the tokens stored after tokenization.\n",
        "        \"\"\"\n",
        "        print(\"Tokens:\", self.tokens)\n",
        "\n",
        "\n",
        "# Example usage:\n",
        "lexer = LexicalAnalyzer()\n",
        "lexer.accept_input()\n",
        "lexer.display_tokens()\n"
      ],
      "metadata": {
        "colab": {
          "base_uri": "https://localhost:8080/"
        },
        "id": "kNh5932TvxB6",
        "outputId": "c5a68cec-14ce-47f9-f13d-fea8e4d67ec0"
      },
      "execution_count": 3,
      "outputs": [
        {
          "output_type": "stream",
          "name": "stdout",
          "text": [
            "Enter an arithmetic expression: 2+3\n",
            "Tokens: ['2', '+', '3']\n"
          ]
        }
      ]
    },
    {
      "cell_type": "code",
      "execution_count": 4,
      "metadata": {
        "colab": {
          "base_uri": "https://localhost:8080/"
        },
        "id": "XuTbnQ7WvaS6",
        "outputId": "035d4144-eebc-4ed4-f28e-6a28be0bed53"
      },
      "outputs": [
        {
          "output_type": "stream",
          "name": "stdout",
          "text": [
            "Enter an arithmetic expression: 4*5\n",
            "Result: 20\n"
          ]
        }
      ],
      "source": [
        "# Milestone 3: Parsing Algorithm\n",
        "\n",
        "class LLParser:\n",
        "    def __init__(self):\n",
        "        self.tokens = []\n",
        "        self.current_token_index = 0\n",
        "\n",
        "    def parse_expression(self):\n",
        "        \"\"\"\n",
        "        Parses the arithmetic expression recursively.\n",
        "        \"\"\"\n",
        "        result = self.parse_term()\n",
        "        while self.current_token_index < len(self.tokens):\n",
        "            if self.tokens[self.current_token_index] in {'+', '-'}:\n",
        "                operator = self.tokens[self.current_token_index]\n",
        "                self.current_token_index += 1\n",
        "                term = self.parse_term()\n",
        "                if operator == '+':\n",
        "                    result += term\n",
        "                else:\n",
        "                    result -= term\n",
        "            else:\n",
        "                break\n",
        "        return result\n",
        "\n",
        "    def parse_term(self):\n",
        "        \"\"\"\n",
        "        Parses a term (number or subexpression).\n",
        "        \"\"\"\n",
        "        result = self.parse_factor()\n",
        "        while self.current_token_index < len(self.tokens):\n",
        "            if self.tokens[self.current_token_index] in {'*', '/'}:\n",
        "                operator = self.tokens[self.current_token_index]\n",
        "                self.current_token_index += 1\n",
        "                factor = self.parse_factor()\n",
        "                if operator == '*':\n",
        "                    result *= factor\n",
        "                else:\n",
        "                    if factor != 0:\n",
        "                        result /= factor\n",
        "                    else:\n",
        "                        raise ValueError(\"Division by zero\")\n",
        "            else:\n",
        "                break\n",
        "        return result\n",
        "\n",
        "    def parse_factor(self):\n",
        "        \"\"\"\n",
        "        Parses a factor (number or subexpression).\n",
        "        \"\"\"\n",
        "        if self.tokens[self.current_token_index] == '(':\n",
        "            self.current_token_index += 1\n",
        "            result = self.parse_expression()\n",
        "            if self.tokens[self.current_token_index] == ')':\n",
        "                self.current_token_index += 1\n",
        "                return result\n",
        "            else:\n",
        "                raise ValueError(\"Mismatched parentheses\")\n",
        "        elif self.tokens[self.current_token_index].isdigit():\n",
        "            result = int(self.tokens[self.current_token_index])\n",
        "            self.current_token_index += 1\n",
        "            return result\n",
        "        else:\n",
        "            raise ValueError(\"Invalid token\")\n",
        "\n",
        "    def parse_input(self, tokens):\n",
        "        \"\"\"\n",
        "        Parses the input tokens and evaluates the arithmetic expression.\n",
        "        \"\"\"\n",
        "        self.tokens = tokens\n",
        "        self.current_token_index = 0\n",
        "        return self.parse_expression()\n",
        "\n",
        "\n",
        "# Example usage:\n",
        "parser = LLParser()\n",
        "lexer = LexicalAnalyzer()\n",
        "lexer.accept_input()\n",
        "result = parser.parse_input(lexer.tokens)\n",
        "print(\"Result:\", result)\n",
        "\n"
      ]
    },
    {
      "cell_type": "code",
      "source": [],
      "metadata": {
        "id": "rfINluhXv1Hh"
      },
      "execution_count": null,
      "outputs": []
    },
    {
      "cell_type": "code",
      "source": [],
      "metadata": {
        "id": "Tthd_AA2v6fi"
      },
      "execution_count": null,
      "outputs": []
    }
  ]
}